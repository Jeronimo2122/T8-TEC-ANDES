{
 "cells": [
  {
   "cell_type": "code",
   "execution_count": 2,
   "metadata": {},
   "outputs": [],
   "source": [
    "# Importacion de librerias\n",
    "import pandas as pd\n",
    "import matplotlib.pyplot as plt\n",
    "import numpy as np"
   ]
  },
  {
   "cell_type": "code",
   "execution_count": 33,
   "metadata": {},
   "outputs": [
    {
     "data": {
      "text/plain": [
       "(1197, 15)"
      ]
     },
     "execution_count": 33,
     "metadata": {},
     "output_type": "execute_result"
    }
   ],
   "source": [
    "# Cargar datos\n",
    "data = pd.read_csv('productividad.csv', sep=';')\n",
    "data.shape"
   ]
  },
  {
   "cell_type": "code",
   "execution_count": 34,
   "metadata": {},
   "outputs": [
    {
     "data": {
      "text/html": [
       "<div>\n",
       "<style scoped>\n",
       "    .dataframe tbody tr th:only-of-type {\n",
       "        vertical-align: middle;\n",
       "    }\n",
       "\n",
       "    .dataframe tbody tr th {\n",
       "        vertical-align: top;\n",
       "    }\n",
       "\n",
       "    .dataframe thead th {\n",
       "        text-align: right;\n",
       "    }\n",
       "</style>\n",
       "<table border=\"1\" class=\"dataframe\">\n",
       "  <thead>\n",
       "    <tr style=\"text-align: right;\">\n",
       "      <th></th>\n",
       "      <th>date</th>\n",
       "      <th>quarter</th>\n",
       "      <th>department</th>\n",
       "      <th>day</th>\n",
       "      <th>team</th>\n",
       "      <th>targeted_productivity</th>\n",
       "      <th>smv</th>\n",
       "      <th>wip</th>\n",
       "      <th>over_time</th>\n",
       "      <th>incentive</th>\n",
       "      <th>idle_time</th>\n",
       "      <th>idle_men</th>\n",
       "      <th>no_of_style_change</th>\n",
       "      <th>no_of_workers</th>\n",
       "      <th>actual_productivity</th>\n",
       "    </tr>\n",
       "  </thead>\n",
       "  <tbody>\n",
       "    <tr>\n",
       "      <th>0</th>\n",
       "      <td>1/01/2015</td>\n",
       "      <td>Quarter1</td>\n",
       "      <td>sweing</td>\n",
       "      <td>Thursday</td>\n",
       "      <td>8</td>\n",
       "      <td>0.80</td>\n",
       "      <td>26.16</td>\n",
       "      <td>1108.0</td>\n",
       "      <td>7080</td>\n",
       "      <td>98</td>\n",
       "      <td>0.0</td>\n",
       "      <td>0</td>\n",
       "      <td>0</td>\n",
       "      <td>59.0</td>\n",
       "      <td>0.940725424</td>\n",
       "    </tr>\n",
       "    <tr>\n",
       "      <th>1</th>\n",
       "      <td>1/01/2015</td>\n",
       "      <td>Quarter1</td>\n",
       "      <td>finishing</td>\n",
       "      <td>Thursday</td>\n",
       "      <td>1</td>\n",
       "      <td>0.75</td>\n",
       "      <td>3.94</td>\n",
       "      <td>NaN</td>\n",
       "      <td>960</td>\n",
       "      <td>0</td>\n",
       "      <td>0.0</td>\n",
       "      <td>0</td>\n",
       "      <td>0</td>\n",
       "      <td>8.0</td>\n",
       "      <td>0.8865</td>\n",
       "    </tr>\n",
       "    <tr>\n",
       "      <th>2</th>\n",
       "      <td>1/01/2015</td>\n",
       "      <td>Quarter1</td>\n",
       "      <td>sweing</td>\n",
       "      <td>Thursday</td>\n",
       "      <td>11</td>\n",
       "      <td>0.80</td>\n",
       "      <td>11.41</td>\n",
       "      <td>968.0</td>\n",
       "      <td>3660</td>\n",
       "      <td>50</td>\n",
       "      <td>0.0</td>\n",
       "      <td>0</td>\n",
       "      <td>0</td>\n",
       "      <td>30.5</td>\n",
       "      <td>0.800570492</td>\n",
       "    </tr>\n",
       "    <tr>\n",
       "      <th>3</th>\n",
       "      <td>1/01/2015</td>\n",
       "      <td>Quarter1</td>\n",
       "      <td>sweing</td>\n",
       "      <td>Thursday</td>\n",
       "      <td>12</td>\n",
       "      <td>0.80</td>\n",
       "      <td>11.41</td>\n",
       "      <td>968.0</td>\n",
       "      <td>3660</td>\n",
       "      <td>50</td>\n",
       "      <td>0.0</td>\n",
       "      <td>0</td>\n",
       "      <td>0</td>\n",
       "      <td>30.5</td>\n",
       "      <td>0.800570492</td>\n",
       "    </tr>\n",
       "    <tr>\n",
       "      <th>4</th>\n",
       "      <td>1/01/2015</td>\n",
       "      <td>Quarter1</td>\n",
       "      <td>sweing</td>\n",
       "      <td>Thursday</td>\n",
       "      <td>6</td>\n",
       "      <td>0.80</td>\n",
       "      <td>25.90</td>\n",
       "      <td>1170.0</td>\n",
       "      <td>1920</td>\n",
       "      <td>50</td>\n",
       "      <td>0.0</td>\n",
       "      <td>0</td>\n",
       "      <td>0</td>\n",
       "      <td>56.0</td>\n",
       "      <td>0.800381944</td>\n",
       "    </tr>\n",
       "  </tbody>\n",
       "</table>\n",
       "</div>"
      ],
      "text/plain": [
       "        date   quarter  department       day  team  targeted_productivity  \\\n",
       "0  1/01/2015  Quarter1      sweing  Thursday     8                   0.80   \n",
       "1  1/01/2015  Quarter1  finishing   Thursday     1                   0.75   \n",
       "2  1/01/2015  Quarter1      sweing  Thursday    11                   0.80   \n",
       "3  1/01/2015  Quarter1      sweing  Thursday    12                   0.80   \n",
       "4  1/01/2015  Quarter1      sweing  Thursday     6                   0.80   \n",
       "\n",
       "     smv     wip  over_time  incentive  idle_time  idle_men  \\\n",
       "0  26.16  1108.0       7080         98        0.0         0   \n",
       "1   3.94     NaN        960          0        0.0         0   \n",
       "2  11.41   968.0       3660         50        0.0         0   \n",
       "3  11.41   968.0       3660         50        0.0         0   \n",
       "4  25.90  1170.0       1920         50        0.0         0   \n",
       "\n",
       "   no_of_style_change  no_of_workers actual_productivity  \n",
       "0                   0           59.0         0.940725424  \n",
       "1                   0            8.0              0.8865  \n",
       "2                   0           30.5         0.800570492  \n",
       "3                   0           30.5         0.800570492  \n",
       "4                   0           56.0         0.800381944  "
      ]
     },
     "execution_count": 34,
     "metadata": {},
     "output_type": "execute_result"
    }
   ],
   "source": [
    "data.head()"
   ]
  },
  {
   "cell_type": "code",
   "execution_count": 35,
   "metadata": {},
   "outputs": [
    {
     "data": {
      "text/plain": [
       "['date',\n",
       " 'quarter',\n",
       " 'department',\n",
       " 'day',\n",
       " 'team',\n",
       " 'targeted_productivity',\n",
       " 'smv',\n",
       " 'wip',\n",
       " 'over_time',\n",
       " 'incentive',\n",
       " 'idle_time',\n",
       " 'idle_men',\n",
       " 'no_of_style_change',\n",
       " 'no_of_workers',\n",
       " 'actual_productivity']"
      ]
     },
     "execution_count": 35,
     "metadata": {},
     "output_type": "execute_result"
    }
   ],
   "source": [
    "headers = data.columns.tolist()\n",
    "headers"
   ]
  },
  {
   "cell_type": "markdown",
   "metadata": {},
   "source": [
    "- **Date**: Date in MM-DD-YYYY\n",
    "- **Quarter**: A portion of the month. A month was divided into four quarters\n",
    "- **Department**: Associated department with the instance\n",
    "- **Day**: Day of the Week\n",
    "- **Team**: Associated team number with the instance\n",
    "- **Targeted productivity**: Targeted productivity set by the Authority for each team for each day.\n",
    "- **SMV**: Standard Minute Value, it is the allocated time for a task\n",
    "- **WIP**: Work in progress. Includes the number of unfinished items for products\n",
    "- **Over time**: Represents the amount of overtime by each team in minutes\n",
    "- **Incentive**: Represents the amount of financial incentive (in BDT) that enables or motivates a particular course of action.\n",
    "- **Idle time**: The amount of time when the production was interrupted due to several reasons\n",
    "- **Idle men**: The number of workers who were idle due to production interruption\n",
    "- **No of style change**: Number of changes in the style of a particular product\n",
    "- **No of workers**: Number of workers in each team\n",
    "- **Actual productivity**: The actual % of productivity that was delivered by the workers. It ranges from 0-1.\n",
    "\n"
   ]
  },
  {
   "cell_type": "markdown",
   "metadata": {},
   "source": [
    "# Limpieza de datos"
   ]
  },
  {
   "cell_type": "code",
   "execution_count": 36,
   "metadata": {},
   "outputs": [
    {
     "data": {
      "text/plain": [
       "(1197, 15)"
      ]
     },
     "execution_count": 36,
     "metadata": {},
     "output_type": "execute_result"
    }
   ],
   "source": [
    "data.drop_duplicates(inplace=True)\n",
    "data.shape"
   ]
  },
  {
   "cell_type": "markdown",
   "metadata": {},
   "source": [
    "**Analisis:** Se evidencia que no hay datos duplicados, ya que luego de emplear la función de eliminar duplicados no se elimino ningun dato (la cantidad de filas no cambio)"
   ]
  },
  {
   "cell_type": "code",
   "execution_count": 37,
   "metadata": {},
   "outputs": [
    {
     "name": "stdout",
     "output_type": "stream",
     "text": [
      "date                       0\n",
      "quarter                    0\n",
      "department                 0\n",
      "day                        0\n",
      "team                       0\n",
      "targeted_productivity      0\n",
      "smv                        0\n",
      "wip                      506\n",
      "over_time                  0\n",
      "incentive                  0\n",
      "idle_time                  0\n",
      "idle_men                   0\n",
      "no_of_style_change         0\n",
      "no_of_workers              0\n",
      "actual_productivity        0\n",
      "dtype: int64\n"
     ]
    }
   ],
   "source": [
    "print(data.isnull().sum())"
   ]
  },
  {
   "cell_type": "markdown",
   "metadata": {},
   "source": [
    "**Analisis:** Se evidencia que hay datos faltantes en la columna de WIP"
   ]
  },
  {
   "cell_type": "code",
   "execution_count": 38,
   "metadata": {},
   "outputs": [],
   "source": [
    "team_wip_avg = data.groupby('team')['wip'].transform('mean')"
   ]
  },
  {
   "cell_type": "code",
   "execution_count": 39,
   "metadata": {},
   "outputs": [],
   "source": [
    "data['wip'] = data['wip'].fillna(team_wip_avg)"
   ]
  },
  {
   "cell_type": "code",
   "execution_count": 40,
   "metadata": {
    "scrolled": true
   },
   "outputs": [
    {
     "data": {
      "text/html": [
       "<div>\n",
       "<style scoped>\n",
       "    .dataframe tbody tr th:only-of-type {\n",
       "        vertical-align: middle;\n",
       "    }\n",
       "\n",
       "    .dataframe tbody tr th {\n",
       "        vertical-align: top;\n",
       "    }\n",
       "\n",
       "    .dataframe thead th {\n",
       "        text-align: right;\n",
       "    }\n",
       "</style>\n",
       "<table border=\"1\" class=\"dataframe\">\n",
       "  <thead>\n",
       "    <tr style=\"text-align: right;\">\n",
       "      <th></th>\n",
       "      <th>date</th>\n",
       "      <th>quarter</th>\n",
       "      <th>department</th>\n",
       "      <th>day</th>\n",
       "      <th>team</th>\n",
       "      <th>targeted_productivity</th>\n",
       "      <th>smv</th>\n",
       "      <th>wip</th>\n",
       "      <th>over_time</th>\n",
       "      <th>incentive</th>\n",
       "      <th>idle_time</th>\n",
       "      <th>idle_men</th>\n",
       "      <th>no_of_style_change</th>\n",
       "      <th>no_of_workers</th>\n",
       "      <th>actual_productivity</th>\n",
       "    </tr>\n",
       "  </thead>\n",
       "  <tbody>\n",
       "    <tr>\n",
       "      <th>0</th>\n",
       "      <td>1/01/2015</td>\n",
       "      <td>Quarter1</td>\n",
       "      <td>sweing</td>\n",
       "      <td>Thursday</td>\n",
       "      <td>8</td>\n",
       "      <td>0.80</td>\n",
       "      <td>26.16</td>\n",
       "      <td>1108.000000</td>\n",
       "      <td>7080</td>\n",
       "      <td>98</td>\n",
       "      <td>0.0</td>\n",
       "      <td>0</td>\n",
       "      <td>0</td>\n",
       "      <td>59.0</td>\n",
       "      <td>0.940725424</td>\n",
       "    </tr>\n",
       "    <tr>\n",
       "      <th>1</th>\n",
       "      <td>1/01/2015</td>\n",
       "      <td>Quarter1</td>\n",
       "      <td>finishing</td>\n",
       "      <td>Thursday</td>\n",
       "      <td>1</td>\n",
       "      <td>0.75</td>\n",
       "      <td>3.94</td>\n",
       "      <td>1609.196429</td>\n",
       "      <td>960</td>\n",
       "      <td>0</td>\n",
       "      <td>0.0</td>\n",
       "      <td>0</td>\n",
       "      <td>0</td>\n",
       "      <td>8.0</td>\n",
       "      <td>0.8865</td>\n",
       "    </tr>\n",
       "    <tr>\n",
       "      <th>2</th>\n",
       "      <td>1/01/2015</td>\n",
       "      <td>Quarter1</td>\n",
       "      <td>sweing</td>\n",
       "      <td>Thursday</td>\n",
       "      <td>11</td>\n",
       "      <td>0.80</td>\n",
       "      <td>11.41</td>\n",
       "      <td>968.000000</td>\n",
       "      <td>3660</td>\n",
       "      <td>50</td>\n",
       "      <td>0.0</td>\n",
       "      <td>0</td>\n",
       "      <td>0</td>\n",
       "      <td>30.5</td>\n",
       "      <td>0.800570492</td>\n",
       "    </tr>\n",
       "    <tr>\n",
       "      <th>3</th>\n",
       "      <td>1/01/2015</td>\n",
       "      <td>Quarter1</td>\n",
       "      <td>sweing</td>\n",
       "      <td>Thursday</td>\n",
       "      <td>12</td>\n",
       "      <td>0.80</td>\n",
       "      <td>11.41</td>\n",
       "      <td>968.000000</td>\n",
       "      <td>3660</td>\n",
       "      <td>50</td>\n",
       "      <td>0.0</td>\n",
       "      <td>0</td>\n",
       "      <td>0</td>\n",
       "      <td>30.5</td>\n",
       "      <td>0.800570492</td>\n",
       "    </tr>\n",
       "    <tr>\n",
       "      <th>4</th>\n",
       "      <td>1/01/2015</td>\n",
       "      <td>Quarter1</td>\n",
       "      <td>sweing</td>\n",
       "      <td>Thursday</td>\n",
       "      <td>6</td>\n",
       "      <td>0.80</td>\n",
       "      <td>25.90</td>\n",
       "      <td>1170.000000</td>\n",
       "      <td>1920</td>\n",
       "      <td>50</td>\n",
       "      <td>0.0</td>\n",
       "      <td>0</td>\n",
       "      <td>0</td>\n",
       "      <td>56.0</td>\n",
       "      <td>0.800381944</td>\n",
       "    </tr>\n",
       "  </tbody>\n",
       "</table>\n",
       "</div>"
      ],
      "text/plain": [
       "        date   quarter  department       day  team  targeted_productivity  \\\n",
       "0  1/01/2015  Quarter1      sweing  Thursday     8                   0.80   \n",
       "1  1/01/2015  Quarter1  finishing   Thursday     1                   0.75   \n",
       "2  1/01/2015  Quarter1      sweing  Thursday    11                   0.80   \n",
       "3  1/01/2015  Quarter1      sweing  Thursday    12                   0.80   \n",
       "4  1/01/2015  Quarter1      sweing  Thursday     6                   0.80   \n",
       "\n",
       "     smv          wip  over_time  incentive  idle_time  idle_men  \\\n",
       "0  26.16  1108.000000       7080         98        0.0         0   \n",
       "1   3.94  1609.196429        960          0        0.0         0   \n",
       "2  11.41   968.000000       3660         50        0.0         0   \n",
       "3  11.41   968.000000       3660         50        0.0         0   \n",
       "4  25.90  1170.000000       1920         50        0.0         0   \n",
       "\n",
       "   no_of_style_change  no_of_workers actual_productivity  \n",
       "0                   0           59.0         0.940725424  \n",
       "1                   0            8.0              0.8865  \n",
       "2                   0           30.5         0.800570492  \n",
       "3                   0           30.5         0.800570492  \n",
       "4                   0           56.0         0.800381944  "
      ]
     },
     "execution_count": 40,
     "metadata": {},
     "output_type": "execute_result"
    }
   ],
   "source": [
    "data.head()"
   ]
  },
  {
   "cell_type": "markdown",
   "metadata": {},
   "source": [
    "Analisis: Remplace los faltantes de la columna wip con el promedio del mismo dependiendo del 'team' en el que estaban"
   ]
  },
  {
   "cell_type": "code",
   "execution_count": 42,
   "metadata": {},
   "outputs": [
    {
     "data": {
      "text/plain": [
       "array(['1/01/2015', '1/03/2015', '1/04/2015', '1/05/2015', '1/06/2015',\n",
       "       '1/07/2015', '1/08/2015', '1/10/2015', '1/11/2015', '1/12/2015',\n",
       "       '1/13/2015', '1/14/2015', '1/15/2015', '1/17/2015', '1/18/2015',\n",
       "       '1/19/2015', '1/20/2015', '1/21/2015', '1/22/2015', '1/24/2015',\n",
       "       '1/25/2015', '1/26/2015', '1/27/2015', '1/28/2015', '1/29/2015',\n",
       "       '1/31/2015', '2/01/2015', '2/02/2015', '2/03/2015', '2/04/2015',\n",
       "       '2/05/2015', '2/07/2015', '2/08/2015', '2/09/2015', '2/10/2015',\n",
       "       '2/11/2015', '2/12/2015', '2/14/2015', '2/15/2015', '2/16/2015',\n",
       "       '2/17/2015', '2/18/2015', '2/19/2015', '2/22/2015', '2/23/2015',\n",
       "       '2/24/2015', '2/25/2015', '2/26/2015', '2/28/2015', '3/01/2015',\n",
       "       '3/02/2015', '3/03/2015', '3/04/2015', '3/05/2015', '3/07/2015',\n",
       "       '3/08/2015', '3/09/2015', '3/10/2015', '3/11/2015'], dtype=object)"
      ]
     },
     "execution_count": 42,
     "metadata": {},
     "output_type": "execute_result"
    }
   ],
   "source": [
    "data['date'].unique()"
   ]
  },
  {
   "cell_type": "code",
   "execution_count": 44,
   "metadata": {},
   "outputs": [
    {
     "data": {
      "text/plain": [
       "array(['Quarter1', 'Quarter2', 'Quarter3', 'Quarter4', 'Quarter5'],\n",
       "      dtype=object)"
      ]
     },
     "execution_count": 44,
     "metadata": {},
     "output_type": "execute_result"
    }
   ],
   "source": [
    "data['quarter'].unique()"
   ]
  },
  {
   "cell_type": "code",
   "execution_count": 45,
   "metadata": {},
   "outputs": [
    {
     "data": {
      "text/plain": [
       "array(['sweing', 'finishing ', 'finishing'], dtype=object)"
      ]
     },
     "execution_count": 45,
     "metadata": {},
     "output_type": "execute_result"
    }
   ],
   "source": [
    "data['department'].unique()"
   ]
  },
  {
   "cell_type": "code",
   "execution_count": 46,
   "metadata": {},
   "outputs": [
    {
     "data": {
      "text/plain": [
       "array(['Thursday', 'Saturday', 'Sunday', 'Monday', 'Tuesday', 'Wednesday'],\n",
       "      dtype=object)"
      ]
     },
     "execution_count": 46,
     "metadata": {},
     "output_type": "execute_result"
    }
   ],
   "source": [
    "data['day'].unique()"
   ]
  },
  {
   "cell_type": "code",
   "execution_count": 50,
   "metadata": {},
   "outputs": [
    {
     "name": "stderr",
     "output_type": "stream",
     "text": [
      "/var/folders/lb/6vdrbbsj6mjgyd4k3jj3x65w0000gn/T/ipykernel_91695/3102582705.py:1: FutureWarning: A value is trying to be set on a copy of a DataFrame or Series through chained assignment using an inplace method.\n",
      "The behavior will change in pandas 3.0. This inplace method will never work because the intermediate object on which we are setting values always behaves as a copy.\n",
      "\n",
      "For example, when doing 'df[col].method(value, inplace=True)', try using 'df.method({col: value}, inplace=True)' or df[col] = df[col].method(value) instead, to perform the operation inplace on the original object.\n",
      "\n",
      "\n",
      "  data['department'].replace('finishing ', 'finishing', inplace=True)\n"
     ]
    }
   ],
   "source": [
    "data['department'].replace('finishing ', 'finishing', inplace=True)"
   ]
  },
  {
   "cell_type": "code",
   "execution_count": 52,
   "metadata": {},
   "outputs": [
    {
     "data": {
      "text/plain": [
       "array(['sweing', 'finishing'], dtype=object)"
      ]
     },
     "execution_count": 52,
     "metadata": {},
     "output_type": "execute_result"
    }
   ],
   "source": [
    "data['department'].unique()"
   ]
  },
  {
   "cell_type": "markdown",
   "metadata": {},
   "source": [
    "Analisis: Al revisar los valores de las columnas con valores object, podemos observar que hay un valor en la columna 'department' que se repite pero tiene un nombre distinto y por lo tanto remplazamos el dato 'finishing ' con el de 'finishing' para no tener esa inconsistencia en los datos."
   ]
  },
  {
   "cell_type": "code",
   "execution_count": 53,
   "metadata": {},
   "outputs": [
    {
     "data": {
      "text/html": [
       "<div>\n",
       "<style scoped>\n",
       "    .dataframe tbody tr th:only-of-type {\n",
       "        vertical-align: middle;\n",
       "    }\n",
       "\n",
       "    .dataframe tbody tr th {\n",
       "        vertical-align: top;\n",
       "    }\n",
       "\n",
       "    .dataframe thead th {\n",
       "        text-align: right;\n",
       "    }\n",
       "</style>\n",
       "<table border=\"1\" class=\"dataframe\">\n",
       "  <thead>\n",
       "    <tr style=\"text-align: right;\">\n",
       "      <th></th>\n",
       "      <th>team</th>\n",
       "      <th>targeted_productivity</th>\n",
       "      <th>smv</th>\n",
       "      <th>wip</th>\n",
       "      <th>over_time</th>\n",
       "      <th>incentive</th>\n",
       "      <th>idle_time</th>\n",
       "      <th>idle_men</th>\n",
       "      <th>no_of_style_change</th>\n",
       "      <th>no_of_workers</th>\n",
       "    </tr>\n",
       "  </thead>\n",
       "  <tbody>\n",
       "    <tr>\n",
       "      <th>count</th>\n",
       "      <td>1197.000000</td>\n",
       "      <td>1197.000000</td>\n",
       "      <td>1197.000000</td>\n",
       "      <td>1197.000000</td>\n",
       "      <td>1197.000000</td>\n",
       "      <td>1197.000000</td>\n",
       "      <td>1197.000000</td>\n",
       "      <td>1197.000000</td>\n",
       "      <td>1197.000000</td>\n",
       "      <td>1197.000000</td>\n",
       "    </tr>\n",
       "    <tr>\n",
       "      <th>mean</th>\n",
       "      <td>6.426901</td>\n",
       "      <td>0.729632</td>\n",
       "      <td>15.062172</td>\n",
       "      <td>1198.735765</td>\n",
       "      <td>4567.460317</td>\n",
       "      <td>38.210526</td>\n",
       "      <td>0.730159</td>\n",
       "      <td>0.369256</td>\n",
       "      <td>0.150376</td>\n",
       "      <td>34.609858</td>\n",
       "    </tr>\n",
       "    <tr>\n",
       "      <th>std</th>\n",
       "      <td>3.463963</td>\n",
       "      <td>0.097891</td>\n",
       "      <td>10.943219</td>\n",
       "      <td>1404.692047</td>\n",
       "      <td>3348.823563</td>\n",
       "      <td>160.182643</td>\n",
       "      <td>12.709757</td>\n",
       "      <td>3.268987</td>\n",
       "      <td>0.427848</td>\n",
       "      <td>22.197687</td>\n",
       "    </tr>\n",
       "    <tr>\n",
       "      <th>min</th>\n",
       "      <td>1.000000</td>\n",
       "      <td>0.070000</td>\n",
       "      <td>2.900000</td>\n",
       "      <td>7.000000</td>\n",
       "      <td>0.000000</td>\n",
       "      <td>0.000000</td>\n",
       "      <td>0.000000</td>\n",
       "      <td>0.000000</td>\n",
       "      <td>0.000000</td>\n",
       "      <td>2.000000</td>\n",
       "    </tr>\n",
       "    <tr>\n",
       "      <th>25%</th>\n",
       "      <td>3.000000</td>\n",
       "      <td>0.700000</td>\n",
       "      <td>3.940000</td>\n",
       "      <td>925.000000</td>\n",
       "      <td>1440.000000</td>\n",
       "      <td>0.000000</td>\n",
       "      <td>0.000000</td>\n",
       "      <td>0.000000</td>\n",
       "      <td>0.000000</td>\n",
       "      <td>9.000000</td>\n",
       "    </tr>\n",
       "    <tr>\n",
       "      <th>50%</th>\n",
       "      <td>6.000000</td>\n",
       "      <td>0.750000</td>\n",
       "      <td>15.260000</td>\n",
       "      <td>1096.000000</td>\n",
       "      <td>3960.000000</td>\n",
       "      <td>0.000000</td>\n",
       "      <td>0.000000</td>\n",
       "      <td>0.000000</td>\n",
       "      <td>0.000000</td>\n",
       "      <td>34.000000</td>\n",
       "    </tr>\n",
       "    <tr>\n",
       "      <th>75%</th>\n",
       "      <td>9.000000</td>\n",
       "      <td>0.800000</td>\n",
       "      <td>24.260000</td>\n",
       "      <td>1326.280702</td>\n",
       "      <td>6960.000000</td>\n",
       "      <td>50.000000</td>\n",
       "      <td>0.000000</td>\n",
       "      <td>0.000000</td>\n",
       "      <td>0.000000</td>\n",
       "      <td>57.000000</td>\n",
       "    </tr>\n",
       "    <tr>\n",
       "      <th>max</th>\n",
       "      <td>12.000000</td>\n",
       "      <td>0.800000</td>\n",
       "      <td>54.560000</td>\n",
       "      <td>23122.000000</td>\n",
       "      <td>25920.000000</td>\n",
       "      <td>3600.000000</td>\n",
       "      <td>300.000000</td>\n",
       "      <td>45.000000</td>\n",
       "      <td>2.000000</td>\n",
       "      <td>89.000000</td>\n",
       "    </tr>\n",
       "  </tbody>\n",
       "</table>\n",
       "</div>"
      ],
      "text/plain": [
       "              team  targeted_productivity          smv           wip  \\\n",
       "count  1197.000000            1197.000000  1197.000000   1197.000000   \n",
       "mean      6.426901               0.729632    15.062172   1198.735765   \n",
       "std       3.463963               0.097891    10.943219   1404.692047   \n",
       "min       1.000000               0.070000     2.900000      7.000000   \n",
       "25%       3.000000               0.700000     3.940000    925.000000   \n",
       "50%       6.000000               0.750000    15.260000   1096.000000   \n",
       "75%       9.000000               0.800000    24.260000   1326.280702   \n",
       "max      12.000000               0.800000    54.560000  23122.000000   \n",
       "\n",
       "          over_time    incentive    idle_time     idle_men  \\\n",
       "count   1197.000000  1197.000000  1197.000000  1197.000000   \n",
       "mean    4567.460317    38.210526     0.730159     0.369256   \n",
       "std     3348.823563   160.182643    12.709757     3.268987   \n",
       "min        0.000000     0.000000     0.000000     0.000000   \n",
       "25%     1440.000000     0.000000     0.000000     0.000000   \n",
       "50%     3960.000000     0.000000     0.000000     0.000000   \n",
       "75%     6960.000000    50.000000     0.000000     0.000000   \n",
       "max    25920.000000  3600.000000   300.000000    45.000000   \n",
       "\n",
       "       no_of_style_change  no_of_workers  \n",
       "count         1197.000000    1197.000000  \n",
       "mean             0.150376      34.609858  \n",
       "std              0.427848      22.197687  \n",
       "min              0.000000       2.000000  \n",
       "25%              0.000000       9.000000  \n",
       "50%              0.000000      34.000000  \n",
       "75%              0.000000      57.000000  \n",
       "max              2.000000      89.000000  "
      ]
     },
     "execution_count": 53,
     "metadata": {},
     "output_type": "execute_result"
    }
   ],
   "source": [
    "data.describe()"
   ]
  },
  {
   "cell_type": "markdown",
   "metadata": {},
   "source": [
    "Analisis: Al observar los datos de cada columna concluimos que no hay ningna inconsistencia mayo dentreo de los número."
   ]
  },
  {
   "cell_type": "code",
   "execution_count": 54,
   "metadata": {},
   "outputs": [
    {
     "data": {
      "text/plain": [
       "date                      object\n",
       "quarter                   object\n",
       "department                object\n",
       "day                       object\n",
       "team                       int64\n",
       "targeted_productivity    float64\n",
       "smv                      float64\n",
       "wip                      float64\n",
       "over_time                  int64\n",
       "incentive                  int64\n",
       "idle_time                float64\n",
       "idle_men                   int64\n",
       "no_of_style_change         int64\n",
       "no_of_workers            float64\n",
       "actual_productivity       object\n",
       "dtype: object"
      ]
     },
     "execution_count": 54,
     "metadata": {},
     "output_type": "execute_result"
    }
   ],
   "source": [
    "data.dtypes"
   ]
  },
  {
   "cell_type": "markdown",
   "metadata": {},
   "source": [
    "Evidenciamos que la columna actual_productivity no esta bien parseada, por lo que la convertimos a float"
   ]
  },
  {
   "cell_type": "code",
   "execution_count": 55,
   "metadata": {},
   "outputs": [],
   "source": [
    "\n",
    "data['actual_productivity'] = pd.to_numeric(data['actual_productivity'], errors='coerce')\n"
   ]
  },
  {
   "cell_type": "code",
   "execution_count": 28,
   "metadata": {},
   "outputs": [
    {
     "data": {
      "text/plain": [
       "date                      object\n",
       "quarter                   object\n",
       "department                object\n",
       "day                       object\n",
       "team                       int64\n",
       "targeted_productivity    float64\n",
       "smv                      float64\n",
       "wip                      float64\n",
       "over_time                  int64\n",
       "incentive                  int64\n",
       "idle_time                float64\n",
       "idle_men                   int64\n",
       "no_of_style_change         int64\n",
       "no_of_workers            float64\n",
       "actual_productivity      float64\n",
       "dtype: object"
      ]
     },
     "execution_count": 28,
     "metadata": {},
     "output_type": "execute_result"
    }
   ],
   "source": [
    "data.dtypes"
   ]
  },
  {
   "cell_type": "code",
   "execution_count": 62,
   "metadata": {},
   "outputs": [
    {
     "name": "stdout",
     "output_type": "stream",
     "text": [
      "Cantidad de valores NaN después de la conversión: 36\n",
      "Cantidad de filas después de eliminar valores NaN: 1161\n"
     ]
    }
   ],
   "source": [
    "# Función para limpiar los valores\n",
    "def clean_value(value):\n",
    "    # Si el valor contiene más de un punto, es un valor grande con separadores de miles\n",
    "    if value.count('.') > 1:\n",
    "        return value.replace('.', '')\n",
    "    return value\n",
    "\n",
    "# Aplicar la función de limpieza a la columna\n",
    "data['actual_productivity'] = data['actual_productivity'].astype(str).apply(clean_value)\n",
    "\n",
    "# Convertir a numérico\n",
    "data['actual_productivity'] = pd.to_numeric(data['actual_productivity'], errors='coerce')\n",
    "\n",
    "# Verificar la cantidad de valores NaN después de la conversión\n",
    "print(\"Cantidad de valores NaN después de la conversión:\", data['actual_productivity'].isna().sum())\n",
    "\n",
    "# Opcional: Eliminar filas con valores NaN\n",
    "data_clean = data.dropna(subset=['actual_productivity'])\n",
    "\n",
    "# Verificar la cantidad de filas después de eliminar valores NaN\n",
    "print(\"Cantidad de filas después de eliminar valores NaN:\", len(data_clean))"
   ]
  },
  {
   "cell_type": "code",
   "execution_count": 64,
   "metadata": {},
   "outputs": [],
   "source": [
    "data_clean.to_csv('datos_limpios.csv',index=False)"
   ]
  }
 ],
 "metadata": {
  "kernelspec": {
   "display_name": "Python 3",
   "language": "python",
   "name": "python3"
  },
  "language_info": {
   "codemirror_mode": {
    "name": "ipython",
    "version": 3
   },
   "file_extension": ".py",
   "mimetype": "text/x-python",
   "name": "python",
   "nbconvert_exporter": "python",
   "pygments_lexer": "ipython3",
   "version": "3.11.9"
  }
 },
 "nbformat": 4,
 "nbformat_minor": 4
}
